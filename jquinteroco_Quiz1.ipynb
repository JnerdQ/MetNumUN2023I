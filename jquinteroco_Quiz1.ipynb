{
  "nbformat": 4,
  "nbformat_minor": 0,
  "metadata": {
    "colab": {
      "provenance": [],
      "authorship_tag": "ABX9TyN0Rev6cbNKnOO5bw31fAGX",
      "include_colab_link": true
    },
    "kernelspec": {
      "name": "python3",
      "display_name": "Python 3"
    },
    "language_info": {
      "name": "python"
    }
  },
  "cells": [
    {
      "cell_type": "markdown",
      "metadata": {
        "id": "view-in-github",
        "colab_type": "text"
      },
      "source": [
        "<a href=\"https://colab.research.google.com/github/JnerdQ/MetNumUN2023I/blob/main/jquinteroco_Quiz1.ipynb\" target=\"_parent\"><img src=\"https://colab.research.google.com/assets/colab-badge.svg\" alt=\"Open In Colab\"/></a>"
      ]
    },
    {
      "cell_type": "code",
      "execution_count": null,
      "metadata": {
        "id": "QDJPQAHpuRDs"
      },
      "outputs": [],
      "source": [
        "def FizzBuzz(x):\n",
        "    resp =\"\"\n",
        "    if((x%3 == 0) and (x % 5 != 0)):\n",
        "        resp = 'Fizz!'\n",
        "    elif((x%3 != 0) and (x % 5 == 0)):\n",
        "        resp = 'Buzz!'\n",
        "    elif((x%3 == 0) and (x % 5 == 0)):\n",
        "        resp= 'FizzBuzz!'\n",
        "    else:\n",
        "        resp = '...'\n",
        "    return resp\n",
        "     "
      ]
    },
    {
      "cell_type": "code",
      "source": [
        "def FizzBuzzList(n):\n",
        "    lista = []\n",
        "    if(n >= 1):\n",
        "      for i in range(n):\n",
        "        lista.append(FizzBuzz(i+1))\n",
        "    return lista"
      ],
      "metadata": {
        "id": "d8l0naIXvs8z"
      },
      "execution_count": null,
      "outputs": []
    },
    {
      "cell_type": "code",
      "source": [
        "import numpy as np\n",
        "\n",
        "def standarize(X):\n",
        "  X_standarized = (X - X.mean())/X.std()\n",
        "  return X_standarized"
      ],
      "metadata": {
        "id": "W9MVJPG_w_yS"
      },
      "execution_count": null,
      "outputs": []
    },
    {
      "cell_type": "code",
      "source": [
        "import numpy as np\n",
        "\n",
        "def main_diagonal_matrix(A):\n",
        "  D = np.diag(np.diag(A.astype(float)))\n",
        "  return D"
      ],
      "metadata": {
        "id": "lNaunXeHx9CA"
      },
      "execution_count": null,
      "outputs": []
    }
  ]
}